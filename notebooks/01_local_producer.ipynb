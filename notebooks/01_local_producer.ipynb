{
 "cells": [
  {
   "cell_type": "markdown",
   "metadata": {},
   "source": [
    "## Local Producer\n",
    "\n",
    "In this exercise, you'll run a producer on your computer to send some arbitrary files to a topic"
   ]
  },
  {
   "cell_type": "code",
   "execution_count": 1,
   "metadata": {},
   "outputs": [],
   "source": [
    "# imports\n",
    "import pathlib, logging, importlib, datetime\n",
    "from threading import Thread\n",
    "from openmsitoolbox.logging import OpenMSILogger\n",
    "from openmsistream import UploadDataFile, DataFileUploadDirectory"
   ]
  },
  {
   "cell_type": "code",
   "execution_count": 2,
   "metadata": {},
   "outputs": [
    {
     "data": {
      "text/plain": [
       "<module 'logging' from '/usr/local/anaconda3/envs/sensorpush/lib/python3.9/logging/__init__.py'>"
      ]
     },
     "execution_count": 2,
     "metadata": {},
     "output_type": "execute_result"
    }
   ],
   "source": [
    "# Configure a logger (only needed when running in a Jupyter notebook like this)\n",
    "logger = OpenMSILogger(\"LocalProducer\", filelevel=None)\n",
    "importlib.reload(logging)"
   ]
  },
  {
   "cell_type": "code",
   "execution_count": 3,
   "metadata": {},
   "outputs": [],
   "source": [
    "# The name of the topic to work with\n",
    "TOPIC_NAME = \"test\"\n",
    "\n",
    "# Paths to the config file and the directory holding the test files\n",
    "repo_root_dir = pathlib.Path().resolve().parent\n",
    "CONFIG_FILE_PATH = repo_root_dir / \"config_files\" / \"confluent_cloud_broker.config\"\n",
    "TEST_FILE_DIR = repo_root_dir.parent / \"test_files\""
   ]
  },
  {
   "cell_type": "markdown",
   "metadata": {},
   "source": [
    "### First, let's just call UploadDataFile for each file in the directory\n",
    "\n",
    "This will start up a producer and send every chunk for each file"
   ]
  },
  {
   "cell_type": "code",
   "execution_count": 4,
   "metadata": {},
   "outputs": [
    {
     "name": "stderr",
     "output_type": "stream",
     "text": [
      "[LocalProducer 2023-12-08 12:40:19] Uploading /Users/margareteminizer/Desktop/dmref_materials_project/openmsistream_short_course/test_files/testing_1.txt to test in 524288-byte chunks using 2 threads....\n",
      "[LocalProducer 2023-12-08 12:40:19] Waiting for all enqueued messages to be delivered (this may take a moment)....\n",
      "[LocalProducer 2023-12-08 12:40:19] Done uploading /Users/margareteminizer/Desktop/dmref_materials_project/openmsistream_short_course/test_files/testing_1.txt\n",
      "[LocalProducer 2023-12-08 12:40:19] Uploading /Users/margareteminizer/Desktop/dmref_materials_project/openmsistream_short_course/test_files/testing_2.txt to test in 524288-byte chunks using 2 threads....\n",
      "[LocalProducer 2023-12-08 12:40:19] Waiting for all enqueued messages to be delivered (this may take a moment)....\n",
      "[LocalProducer 2023-12-08 12:40:19] Done uploading /Users/margareteminizer/Desktop/dmref_materials_project/openmsistream_short_course/test_files/testing_2.txt\n",
      "[LocalProducer 2023-12-08 12:40:20] Uploading /Users/margareteminizer/Desktop/dmref_materials_project/openmsistream_short_course/test_files/testing_3.txt to test in 524288-byte chunks using 2 threads....\n",
      "[LocalProducer 2023-12-08 12:40:20] Waiting for all enqueued messages to be delivered (this may take a moment)....\n",
      "[LocalProducer 2023-12-08 12:40:20] Done uploading /Users/margareteminizer/Desktop/dmref_materials_project/openmsistream_short_course/test_files/testing_3.txt\n"
     ]
    }
   ],
   "source": [
    "# For every file in the folder\n",
    "for iuf, upload_file_path in enumerate(TEST_FILE_DIR.glob(\"*\")):\n",
    "    # Skip any hidden files (like .DS_Store....)\n",
    "    if upload_file_path.name.startswith(\".\"):\n",
    "        continue\n",
    "    # Create an UploadDataFile and call the function to upload it to the topic\n",
    "    upload_file = UploadDataFile(upload_file_path, logger=logger)\n",
    "    upload_file.upload_whole_file(CONFIG_FILE_PATH, TOPIC_NAME)"
   ]
  },
  {
   "cell_type": "markdown",
   "metadata": {},
   "source": [
    "### Next let's watch for new files in a folder using a DataFileUploadDirectory\n",
    "\n",
    "You could run this as an interactive program from the command line, and type a command to shut it down when you wanted to, but here we'll run it in a separate thread from this notebook."
   ]
  },
  {
   "cell_type": "code",
   "execution_count": 5,
   "metadata": {},
   "outputs": [],
   "source": [
    "def upload_task(upload_directory, *args, **kwargs):\n",
    "    \"\"\"Run \"upload_files_as_added\" for a given DataFileUploadDirectory, and log a message\n",
    "    when it gets shut down\n",
    "\n",
    "    Args:\n",
    "        upload_directory (DataFileUploadDirectory): the DataFileUploadDirectory to run\n",
    "        args (list): passed through to \"upload_files_as_added\"\n",
    "        kwargs (dict): passed through to \"upload_files_as_added\"\n",
    "\n",
    "    Returns:\n",
    "        None\n",
    "    \"\"\"\n",
    "    start_time = datetime.datetime.now()\n",
    "    # This call to \"upload_files_as_added\" waits until the program is shut down\n",
    "    uploaded_filepaths = upload_directory.upload_files_as_added(*args, **kwargs)\n",
    "    end_time = datetime.datetime.now()\n",
    "    ts_format = \"%m-%d-%Y %H:%M:%S\"\n",
    "    start_stamp = start_time.strftime(ts_format)\n",
    "    end_stamp = end_time.strftime(ts_format)\n",
    "    # Create a log a message stating the files that were uploaded during the run\n",
    "    msg = (\n",
    "        f\"The following files were uploaded between {start_stamp} and {end_stamp}:\\n\\t\"\n",
    "    )\n",
    "    msg += \"\\n\\t\".join([str(fp) for fp in uploaded_filepaths])\n",
    "    upload_directory.logger.info(msg)"
   ]
  },
  {
   "cell_type": "code",
   "execution_count": 6,
   "metadata": {},
   "outputs": [
    {
     "name": "stderr",
     "output_type": "stream",
     "text": [
      "[LocalProducer 2023-12-08 12:41:11] Will upload new files added to/Users/margareteminizer/Desktop/dmref_materials_project/openmsistream_short_course/test_files to the test topic as 524288-byte chunks using 2 threads\n"
     ]
    }
   ],
   "source": [
    "# Create the DataFileUploadDirectory\n",
    "dfud = DataFileUploadDirectory(TEST_FILE_DIR, CONFIG_FILE_PATH, logger=logger)\n",
    "# Start running its \"upload_files_as_added\" function in a separate thread\n",
    "upload_thread = Thread(\n",
    "    target=upload_task,\n",
    "    args=(\n",
    "        dfud,\n",
    "        TOPIC_NAME,\n",
    "    ),\n",
    ")\n",
    "upload_thread.start()"
   ]
  },
  {
   "cell_type": "markdown",
   "metadata": {},
   "source": [
    "#### With the above cell running, any files you move into the watched directory will be uploaded"
   ]
  },
  {
   "cell_type": "code",
   "execution_count": 7,
   "metadata": {},
   "outputs": [
    {
     "name": "stderr",
     "output_type": "stream",
     "text": [
      "[LocalProducer 2023-12-08 12:41:32] Will quit after all currently enqueued files are done being transferred.\n",
      "[LocalProducer 2023-12-08 12:41:32] Waiting for all enqueued messages to be delivered (this may take a moment)\n",
      "[LocalProducer 2023-12-08 12:41:33] The following files were uploaded between 12-08-2023 12:41:11 and 12-08-2023 12:41:33:\n",
      "\ttesting_2 copy.txt\n",
      "\ttesting_3 copy.txt\n"
     ]
    }
   ],
   "source": [
    "# Manually shut down the upload directory (if running from the command line this would\n",
    "# be like typing \"q\" in the Terminal window)\n",
    "dfud.control_command_queue.put(\"q\")\n",
    "upload_thread.join()"
   ]
  }
 ],
 "metadata": {
  "kernelspec": {
   "display_name": "sensorpush",
   "language": "python",
   "name": "python3"
  },
  "language_info": {
   "codemirror_mode": {
    "name": "ipython",
    "version": 3
   },
   "file_extension": ".py",
   "mimetype": "text/x-python",
   "name": "python",
   "nbconvert_exporter": "python",
   "pygments_lexer": "ipython3",
   "version": "3.9.18"
  }
 },
 "nbformat": 4,
 "nbformat_minor": 2
}
