{
 "cells": [
  {
   "cell_type": "markdown",
   "metadata": {},
   "source": [
    "## Local Producer\n",
    "\n",
    "In this exercise, you'll run a producer on your computer to send some arbitrary files to a topic"
   ]
  },
  {
   "cell_type": "code",
   "execution_count": 1,
   "metadata": {},
   "outputs": [],
   "source": [
    "# imports\n",
    "import pathlib, logging, importlib, time, datetime\n",
    "from threading import Thread\n",
    "from openmsitoolbox.logging import OpenMSILogger\n",
    "from openmsistream import UploadDataFile, DataFileUploadDirectory"
   ]
  },
  {
   "cell_type": "code",
   "execution_count": 2,
   "metadata": {},
   "outputs": [
    {
     "data": {
      "text/plain": [
       "<module 'logging' from '/usr/local/anaconda3/envs/sensorpush/lib/python3.9/logging/__init__.py'>"
      ]
     },
     "execution_count": 2,
     "metadata": {},
     "output_type": "execute_result"
    }
   ],
   "source": [
    "logger = OpenMSILogger(\"LocalProducer\", filelevel=None)\n",
    "importlib.reload(logging)"
   ]
  },
  {
   "cell_type": "code",
   "execution_count": 3,
   "metadata": {},
   "outputs": [],
   "source": [
    "TOPIC_NAME = \"test\"\n",
    "repo_root_dir = pathlib.Path().resolve().parent\n",
    "CONFIG_FILE_PATH = repo_root_dir/\"config_files\"/\"confluent_cloud_broker.config\"\n",
    "TEST_FILE_DIR = repo_root_dir.parent / \"test_files\""
   ]
  },
  {
   "cell_type": "code",
   "execution_count": 4,
   "metadata": {},
   "outputs": [
    {
     "name": "stderr",
     "output_type": "stream",
     "text": [
      "[LocalProducer 2023-12-07 14:43:01] Uploading /Users/margareteminizer/Desktop/dmref_materials_project/openmsistream_short_course/test_files/testing_1.txt to test in 524288-byte chunks using 2 threads....\n",
      "[LocalProducer 2023-12-07 14:43:01] Waiting for all enqueued messages to be delivered (this may take a moment)....\n",
      "[LocalProducer 2023-12-07 14:43:01] Done uploading /Users/margareteminizer/Desktop/dmref_materials_project/openmsistream_short_course/test_files/testing_1.txt\n",
      "[LocalProducer 2023-12-07 14:43:01] Uploading /Users/margareteminizer/Desktop/dmref_materials_project/openmsistream_short_course/test_files/testing_2.txt to test in 524288-byte chunks using 2 threads....\n",
      "[LocalProducer 2023-12-07 14:43:01] Waiting for all enqueued messages to be delivered (this may take a moment)....\n",
      "[LocalProducer 2023-12-07 14:43:02] Done uploading /Users/margareteminizer/Desktop/dmref_materials_project/openmsistream_short_course/test_files/testing_2.txt\n",
      "[LocalProducer 2023-12-07 14:43:02] Uploading /Users/margareteminizer/Desktop/dmref_materials_project/openmsistream_short_course/test_files/testing_3.txt to test in 524288-byte chunks using 2 threads....\n",
      "[LocalProducer 2023-12-07 14:43:02] Waiting for all enqueued messages to be delivered (this may take a moment)....\n",
      "[LocalProducer 2023-12-07 14:43:02] Done uploading /Users/margareteminizer/Desktop/dmref_materials_project/openmsistream_short_course/test_files/testing_3.txt\n",
      "[LocalProducer 2023-12-07 14:43:02] Uploading /Users/margareteminizer/Desktop/dmref_materials_project/openmsistream_short_course/test_files/.DS_Store to test in 524288-byte chunks using 2 threads....\n",
      "[LocalProducer 2023-12-07 14:43:03] Waiting for all enqueued messages to be delivered (this may take a moment)....\n",
      "[LocalProducer 2023-12-07 14:43:03] Done uploading /Users/margareteminizer/Desktop/dmref_materials_project/openmsistream_short_course/test_files/.DS_Store\n"
     ]
    }
   ],
   "source": [
    "for iuf, upload_file_path in enumerate(TEST_FILE_DIR.glob(\"*\")):\n",
    "    upload_file = UploadDataFile(upload_file_path, logger=logger)\n",
    "    upload_file.upload_whole_file(CONFIG_FILE_PATH,TOPIC_NAME)"
   ]
  },
  {
   "cell_type": "code",
   "execution_count": 5,
   "metadata": {},
   "outputs": [],
   "source": [
    "def upload_task(upload_directory,*args,**kwargs):\n",
    "    start_time = datetime.datetime.now()\n",
    "    uploaded_filepaths = upload_directory.upload_files_as_added(*args,**kwargs)\n",
    "    end_time = datetime.datetime.now()\n",
    "    ts_format = \"%m-%d-%Y %H:%M:%S\"\n",
    "    start_stamp = start_time.strftime(ts_format)\n",
    "    end_stamp = end_time.strftime(ts_format)\n",
    "    msg = f\"The following files were uploaded between {start_stamp} and {end_stamp}:\\n\\t\"\n",
    "    msg+=\"\\n\\t\".join([str(fp) for fp in uploaded_filepaths])\n",
    "    upload_directory.logger.info(msg)\n",
    "\n",
    "dfud = DataFileUploadDirectory(TEST_FILE_DIR,CONFIG_FILE_PATH,logger=logger)\n",
    "upload_thread = Thread(target=upload_task, args=(dfud, TOPIC_NAME,))"
   ]
  },
  {
   "cell_type": "code",
   "execution_count": 6,
   "metadata": {},
   "outputs": [
    {
     "name": "stderr",
     "output_type": "stream",
     "text": [
      "[LocalProducer 2023-12-07 14:43:07] Will upload new files added to/Users/margareteminizer/Desktop/dmref_materials_project/openmsistream_short_course/test_files to the test topic as 524288-byte chunks using 2 threads\n"
     ]
    }
   ],
   "source": [
    "upload_thread.start()"
   ]
  },
  {
   "cell_type": "code",
   "execution_count": 7,
   "metadata": {},
   "outputs": [
    {
     "name": "stderr",
     "output_type": "stream",
     "text": [
      "[LocalProducer 2023-12-07 14:43:38] Will quit after all currently enqueued files are done being transferred.\n",
      "[LocalProducer 2023-12-07 14:43:38] Waiting for all enqueued messages to be delivered (this may take a moment)\n",
      "[LocalProducer 2023-12-07 14:43:38] The following files were uploaded between 12-07-2023 14:43:07 and 12-07-2023 14:43:38:\n",
      "\ttesting_2_copy.txt\n"
     ]
    }
   ],
   "source": [
    "dfud.control_command_queue.put(\"q\")\n",
    "upload_thread.join()"
   ]
  },
  {
   "cell_type": "code",
   "execution_count": null,
   "metadata": {},
   "outputs": [],
   "source": []
  },
  {
   "cell_type": "markdown",
   "metadata": {},
   "source": []
  }
 ],
 "metadata": {
  "kernelspec": {
   "display_name": "sensorpush",
   "language": "python",
   "name": "python3"
  },
  "language_info": {
   "codemirror_mode": {
    "name": "ipython",
    "version": 3
   },
   "file_extension": ".py",
   "mimetype": "text/x-python",
   "name": "python",
   "nbconvert_exporter": "python",
   "pygments_lexer": "ipython3",
   "version": "3.9.18"
  }
 },
 "nbformat": 4,
 "nbformat_minor": 2
}
