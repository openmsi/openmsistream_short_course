{
 "cells": [
  {
   "cell_type": "markdown",
   "metadata": {},
   "source": [
    "## Example XRD data analysis\n",
    "\n",
    "In this notebook we'll demo an example analysis using background-subtracted XRD data. The analysis consists of splitting some background-subtracted XRD data into segments containing one or more peaks, and then fitting a model of some linear background and some pseudo-Voigt peaks to each segment found."
   ]
  },
  {
   "cell_type": "code",
   "execution_count": 31,
   "metadata": {},
   "outputs": [
    {
     "name": "stdout",
     "output_type": "stream",
     "text": [
      "The autoreload extension is already loaded. To reload it, use:\n",
      "  %reload_ext autoreload\n"
     ]
    }
   ],
   "source": [
    "# An IPython Magic to automatically reload any of this notebook's dependencies\n",
    "# when they're edited (preventing you from needing to reload the kernel)\n",
    "%load_ext autoreload\n",
    "%autoreload 3"
   ]
  },
  {
   "cell_type": "code",
   "execution_count": 32,
   "metadata": {},
   "outputs": [],
   "source": [
    "# imports\n",
    "import sys, pathlib, glob\n",
    "import pandas as pd\n",
    "import matplotlib.pyplot as plt"
   ]
  },
  {
   "cell_type": "markdown",
   "metadata": {},
   "source": [
    "This notebook uses some pre-written analysis and plotting code stored in the \"`src/xrd_analysis`\" folder of the repository. Feel free to edit it if you'd like to make improvements."
   ]
  },
  {
   "cell_type": "code",
   "execution_count": 33,
   "metadata": {},
   "outputs": [],
   "source": [
    "# imports from the local code\n",
    "repo_root_dir = pathlib.Path().resolve().parent\n",
    "\n",
    "xrd_analysis_code_path = str(repo_root_dir / \"src\" / \"xrd_analysis\")\n",
    "if xrd_analysis_code_path not in sys.path:\n",
    "    sys.path.append(xrd_analysis_code_path)\n",
    "from utils import get_raw_file_name\n",
    "from analysis import get_peak_segments, get_segment_peak_fit\n",
    "from plotting import plot_peak_segments, plot_segment_peak_fit"
   ]
  },
  {
   "cell_type": "markdown",
   "metadata": {},
   "source": [
    "### Read the background-subtracted XRD data into a Pandas DataFrame"
   ]
  },
  {
   "cell_type": "code",
   "execution_count": 34,
   "metadata": {},
   "outputs": [],
   "source": [
    "xrd_data_dir = repo_root_dir.parent / \"xrd_example_files\"\n",
    "\n",
    "xrd_data_file_paths = glob.glob(f\"{xrd_data_dir}/*.csv\")"
   ]
  },
  {
   "cell_type": "code",
   "execution_count": 35,
   "metadata": {},
   "outputs": [],
   "source": [
    "# Use only the first file as an example to show off the method\n",
    "test_file_index = 0\n",
    "xrd_data_file = xrd_data_file_paths[test_file_index]"
   ]
  },
  {
   "cell_type": "code",
   "execution_count": 36,
   "metadata": {},
   "outputs": [
    {
     "name": "stdout",
     "output_type": "stream",
     "text": [
      "ML_Wallace_04122019_1_NN_1_ZrP_CrucibleRetest_5-60_4min_BkgSubtracted.raw\n",
      "\n"
     ]
    }
   ],
   "source": [
    "print(get_raw_file_name(xrd_data_file))"
   ]
  },
  {
   "cell_type": "code",
   "execution_count": 37,
   "metadata": {},
   "outputs": [],
   "source": [
    "xrd_df = pd.read_csv(xrd_data_file, skiprows=2, names=[\"angle\", \"counts\"])"
   ]
  },
  {
   "cell_type": "markdown",
   "metadata": {},
   "source": [
    "### Find segments in the data containing one or more peaks"
   ]
  },
  {
   "cell_type": "code",
   "execution_count": 38,
   "metadata": {},
   "outputs": [],
   "source": [
    "peak_segments = get_peak_segments(xrd_df)"
   ]
  },
  {
   "cell_type": "code",
   "execution_count": 39,
   "metadata": {},
   "outputs": [],
   "source": [
    "plot_peak_segments(xrd_df, peak_segments)"
   ]
  },
  {
   "cell_type": "markdown",
   "metadata": {},
   "source": [
    "### Fit a background+peak(s) model to each segment independently"
   ]
  },
  {
   "cell_type": "code",
   "execution_count": 40,
   "metadata": {},
   "outputs": [],
   "source": [
    "for i_seg, peak_seg in enumerate(peak_segments):\n",
    "    # Pull out the part of the dataframe that's within the segment\n",
    "    seg_df = xrd_df[\n",
    "        ((xrd_df[\"angle\"] >= peak_seg[\"min\"]) & (xrd_df[\"angle\"] <= peak_seg[\"max\"]))\n",
    "    ]\n",
    "    fit_result = get_segment_peak_fit(xrd_df, peak_seg)\n",
    "    plot_segment_peak_fit(seg_df, fit_result)"
   ]
  },
  {
   "cell_type": "code",
   "execution_count": null,
   "metadata": {},
   "outputs": [],
   "source": []
  }
 ],
 "metadata": {
  "kernelspec": {
   "display_name": "sensorpush",
   "language": "python",
   "name": "python3"
  },
  "language_info": {
   "codemirror_mode": {
    "name": "ipython",
    "version": 3
   },
   "file_extension": ".py",
   "mimetype": "text/x-python",
   "name": "python",
   "nbconvert_exporter": "python",
   "pygments_lexer": "ipython3",
   "version": "3.9.18"
  }
 },
 "nbformat": 4,
 "nbformat_minor": 2
}
